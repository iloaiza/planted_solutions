{
 "cells": [
  {
   "cell_type": "code",
   "execution_count": 1,
   "id": "effbbac0",
   "metadata": {},
   "outputs": [
    {
     "name": "stdout",
     "output_type": "stream",
     "text": [
      "2_co2_6-311++G___12_9d464efb-b312-45f8-b0ba-8c42663059dc.pkl\n"
     ]
    }
   ],
   "source": [
    "\"\"\"Load CAS Hamiltonians\n",
    "\"\"\"\n",
    "import saveload_utils as sl\n",
    "import ferm_utils as feru\n",
    "import csa_utils as csau\n",
    "import var_utils as varu\n",
    "import openfermion as of\n",
    "import numpy as np\n",
    "from sdstate import *\n",
    "from itertools import product\n",
    "import random\n",
    "import h5py\n",
    "import sys\n",
    "from matrix_utils import construct_orthogonal\n",
    "import pickle\n",
    "import tensorflow as tf\n",
    "\n",
    "def get_cas_matrix(cas_x, n, k):\n",
    "    obt = np.zeros([n, n])\n",
    "    tbt = np.zeros([n, n, n, n])\n",
    "    idx = 0\n",
    "    for orbs in k:\n",
    "        for p, q in product(orbs, repeat = 2):\n",
    "            obt[p,q] = cas_x[idx]\n",
    "            idx += 1\n",
    "        for p, q, r, s in product(orbs, repeat = 4):\n",
    "            tbt[p,q,r,s] = cas_x[idx]\n",
    "            idx += 1\n",
    "    return obt, tbt\n",
    "\n",
    "def orbtransf(tensor, U, complex = False):\n",
    "    \"\"\"Return applying UHU* for the tensor representing the 1e or 2e tensor\"\"\"\n",
    "    if len(tensor.shape) == 4:\n",
    "        p = np.einsum_path('ak,bl,cm,dn,klmn->abcd', U, U, U, U, tensor)[0]\n",
    "        return np.einsum('ak,bl,cm,dn,klmn->abcd', U, U, U, U, tensor, optimize = p)\n",
    "    elif len(tensor.shape) == 2:\n",
    "        p = np.einsum_path('ap,bq, pq->ab', U, U, tensor)[0]\n",
    "        return np.einsum('ap,bq, pq->ab', U, U, tensor, optimize = p)\n",
    "def load_Hamiltonian_with_solution(path, file_name):\n",
    "    \"\"\"Load the precomputed Hamiltonian with the given file_name. Return the Hamiltonians and the state\n",
    "    Hamiltonian is represented in spatial orbital basis as three terms: (c, h_pq, g_pqrs)\n",
    "    Returns:    \n",
    "    U: Arbitrary Unitary Rotation, in spatial orbital basis\n",
    "    H_cas: Unhidden CAS Fragements\n",
    "    H_hidden：U H_cas U*\n",
    "    H_with_killer: H_cas + killer\n",
    "    H_killer_hidden: U H_with_killer U*\n",
    "    \"\"\"\n",
    "    with open(ps_path + f_name, 'rb') as handle:\n",
    "        dic = pickle.load(handle)\n",
    "        key = list(dic.keys())[0]\n",
    "        dic = dic[key]\n",
    "    cas_x = dic[\"cas_x\"]\n",
    "    killer = dic[\"killer\"]\n",
    "    killer_c = killer[0]\n",
    "    sol = dic[\"sol\"]\n",
    "    k_obt = tf.sparse.reorder(killer[1])\n",
    "    k_tbt = tf.sparse.reorder(killer[2])\n",
    "    k = dic[\"k\"]\n",
    "    upnum = dic[\"upnum\"]\n",
    "    spatial_orbs = dic[\"spatial_orbs\"]\n",
    "#     CAS 2e tensor\n",
    "    obt, tbt = get_cas_matrix(cas_x, spatial_orbs, k)\n",
    "    H_cas = (0, obt, tbt)\n",
    "    H_with_killer = (killer_c, obt+tf.sparse.to_dense(k_obt), tbt+tf.sparse.to_dense(k_tbt))\n",
    "#     Set up random unitary to hide 2e tensor\n",
    "    random_uparams = np.random.rand(upnum)\n",
    "    U = construct_orthogonal(spatial_orbs, random_uparams)\n",
    "#     Hide 2e etensor with random unitary transformation\n",
    "    H_hidden = (0, orbtransf(obt, U), orbtransf(tbt, U))\n",
    "    H_killer_hidden = (killer_c, orbtransf(H_with_killer[1], U), orbtransf(H_with_killer[2], U))\n",
    "    return U, H_cas, H_hidden, H_with_killer, H_killer_hidden, sol\n",
    "\n",
    "ps_path = \"planted_solutions/\"\n",
    "file_name = \"2_co2_6-311++G___12_9d464efb-b312-45f8-b0ba-8c42663059dc.hdf5\"\n",
    "f_name = file_name.split(\".\")[0] + \".pkl\"\n",
    "print(f_name)\n",
    "U, H_cas, H_hidden, H_with_killer, H_killer_hidden, sol = load_Hamiltonian_with_solution(ps_path, f_name)"
   ]
  },
  {
   "cell_type": "code",
   "execution_count": 5,
   "id": "a222ea85",
   "metadata": {},
   "outputs": [
    {
     "name": "stdout",
     "output_type": "stream",
     "text": [
      "(12, 12)\n",
      "(12, 12)\n"
     ]
    }
   ],
   "source": [
    "print(U.shape)\n",
    "print(H_cas[1].shape)"
   ]
  }
 ],
 "metadata": {
  "kernelspec": {
   "display_name": "Python 3 (ipykernel)",
   "language": "python",
   "name": "python3"
  },
  "language_info": {
   "codemirror_mode": {
    "name": "ipython",
    "version": 3
   },
   "file_extension": ".py",
   "mimetype": "text/x-python",
   "name": "python",
   "nbconvert_exporter": "python",
   "pygments_lexer": "ipython3",
   "version": "3.10.7"
  }
 },
 "nbformat": 4,
 "nbformat_minor": 5
}
